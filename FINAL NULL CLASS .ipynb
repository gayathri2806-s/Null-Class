{
 "cells": [
  {
   "cell_type": "code",
   "execution_count": 1,
   "id": "d481c1ee",
   "metadata": {},
   "outputs": [],
   "source": [
    "import pandas as pd\n",
    "import numpy as np\n",
    "import plotly.express as px\n",
    "import nltk\n",
    "from nltk.sentiment.vader import SentimentIntensityAnalyzer\n",
    "from dash import Dash, dcc, html\n",
    "import webbrowser\n",
    "from threading import Timer"
   ]
  },
  {
   "cell_type": "code",
   "execution_count": 2,
   "id": "0652a168",
   "metadata": {},
   "outputs": [
    {
     "data": {
      "text/plain": [
       "True"
      ]
     },
     "execution_count": 2,
     "metadata": {},
     "output_type": "execute_result"
    }
   ],
   "source": [
    "# Download VADER lexicon for sentiment analysis\n",
    "nltk.download('vader_lexicon', quiet=True)"
   ]
  },
  {
   "cell_type": "code",
   "execution_count": 3,
   "id": "b8c4bc65",
   "metadata": {},
   "outputs": [],
   "source": [
    "# Function to open browser automatically\n",
    "def open_browser():\n",
    "    webbrowser.open_new(\"http://127.0.0.1:8050/\")"
   ]
  },
  {
   "cell_type": "code",
   "execution_count": 4,
   "id": "358074b0",
   "metadata": {},
   "outputs": [],
   "source": [
    "# Step 1: Load the Dataset\n",
    "apps_df = pd.read_csv(r\"C:\\Users\\gayuu\\Desktop\\NullClass\\Play Store Data.csv\")\n",
    "reviews_df = pd.read_csv(r\"C:\\Users\\gayuu\\Desktop\\NullClass\\User Reviews.csv\")\n"
   ]
  },
  {
   "cell_type": "code",
   "execution_count": 5,
   "id": "ba816b01",
   "metadata": {},
   "outputs": [
    {
     "name": "stdout",
     "output_type": "stream",
     "text": [
      "Cleaning data...\n"
     ]
    }
   ],
   "source": [
    "# Step 2: Data Cleaning\n",
    "print(\"Cleaning data...\")\n",
    "apps_df = apps_df.dropna(subset=['Rating'])\n",
    "for column in apps_df.columns:\n",
    "    apps_df[column].fillna(apps_df[column].mode()[0], inplace=True)\n",
    "apps_df.drop_duplicates(inplace=True)\n",
    "apps_df = apps_df[apps_df['Rating'] <= 5]\n",
    "reviews_df.dropna(subset=['Translated_Review'], inplace=True)\n"
   ]
  },
  {
   "cell_type": "code",
   "execution_count": 6,
   "id": "40cfe546",
   "metadata": {},
   "outputs": [
    {
     "name": "stdout",
     "output_type": "stream",
     "text": [
      "Transforming data...\n"
     ]
    }
   ],
   "source": [
    "# Step 3: Data Transformation\n",
    "print(\"Transforming data...\")\n",
    "apps_df['Reviews'] = apps_df['Reviews'].astype(int)\n",
    "apps_df['Installs'] = apps_df['Installs'].str.replace(',', '').str.replace('+', '').astype(int)\n",
    "apps_df['Price'] = apps_df['Price'].str.replace('$', '').astype(float)\n",
    "\n",
    "def convert_size(size):\n",
    "    if isinstance(size, str):\n",
    "        if 'M' in size:\n",
    "            return float(size.replace('M', ''))\n",
    "        elif 'k' in size:\n",
    "            return float(size.replace('k', '')) / 1024\n",
    "    return np.nan\n",
    "\n",
    "apps_df['Size'] = apps_df['Size'].apply(convert_size)\n"
   ]
  },
  {
   "cell_type": "code",
   "execution_count": 7,
   "id": "32d3cb12",
   "metadata": {},
   "outputs": [],
   "source": [
    "# Add log_installs and log_reviews columns\n",
    "apps_df['Log_Installs'] = np.log1p(apps_df['Installs'])\n",
    "apps_df['Log_Reviews'] = np.log1p(apps_df['Reviews'])\n"
   ]
  },
  {
   "cell_type": "code",
   "execution_count": 8,
   "id": "ddad65a1",
   "metadata": {},
   "outputs": [],
   "source": [
    "# Add Rating Group column\n",
    "def rating_group(rating):\n",
    "    if rating >= 4:\n",
    "        return '4-5 stars'\n",
    "    elif rating >= 3:\n",
    "        return '3-4 stars'\n",
    "    elif rating >= 2:\n",
    "        return '2-3 stars'\n",
    "    else:\n",
    "        return 'Below 2 stars'\n",
    "\n",
    "apps_df['Rating_Group'] = apps_df['Rating'].apply(rating_group)\n",
    "\n"
   ]
  },
  {
   "cell_type": "code",
   "execution_count": 9,
   "id": "600b4521",
   "metadata": {},
   "outputs": [],
   "source": [
    "# Add Revenue column\n",
    "apps_df['Revenue'] = apps_df['Price'] * apps_df['Installs']\n",
    "\n",
    "# Sentiment Analysis"
   ]
  },
  {
   "cell_type": "code",
   "execution_count": 10,
   "id": "369030fa",
   "metadata": {},
   "outputs": [
    {
     "name": "stdout",
     "output_type": "stream",
     "text": [
      "Performing sentiment analysis...\n"
     ]
    }
   ],
   "source": [
    "# Sentiment Analysis\n",
    "print(\"Performing sentiment analysis...\")\n",
    "sia = SentimentIntensityAnalyzer()\n",
    "reviews_df['Sentiment_Score'] = reviews_df['Translated_Review'].apply(lambda x: sia.polarity_scores(str(x))['compound'])\n"
   ]
  },
  {
   "cell_type": "code",
   "execution_count": 11,
   "id": "856265ed",
   "metadata": {},
   "outputs": [],
   "source": [
    "# Extract year from 'Last Updated' and create 'Year' column\n",
    "apps_df['Last Updated'] = pd.to_datetime(apps_df['Last Updated'], errors='coerce')\n",
    "apps_df['Year'] = apps_df['Last Updated'].dt.year"
   ]
  },
  {
   "cell_type": "code",
   "execution_count": 12,
   "id": "8933d312",
   "metadata": {},
   "outputs": [],
   "source": [
    "# Create the Dash app with external stylesheets for better appearance\n",
    "app = Dash(__name__,\n",
    "           meta_tags=[\n",
    "               {\"name\": \"viewport\", \"content\": \"width=device-width, initial-scale=1\"}\n",
    "           ])"
   ]
  },
  {
   "cell_type": "code",
   "execution_count": 13,
   "id": "3082dd7e",
   "metadata": {},
   "outputs": [],
   "source": [
    "# Set the title that appears in the browser tab\n",
    "app.title = \"App Store Data Dashboard\""
   ]
  },
  {
   "cell_type": "code",
   "execution_count": 14,
   "id": "d74ce33a",
   "metadata": {},
   "outputs": [],
   "source": [
    "# Create visualizations inside a function that can be called when app starts\n",
    "def create_layout():\n",
    "    print(\"Creating visualizations and layout...\")\n",
    "    # Try-except blocks for each visualization to prevent one error from breaking the entire dashboard\n",
    "    \n",
    "    # Visualization 1 - Sentiment Distribution\n",
    "    try:\n",
    "        top_categories = apps_df.groupby('Category').filter(lambda x: x['Reviews'].sum() > 1000).groupby('Category').size().nlargest(5).index\n",
    "        filtered_reviews = reviews_df[reviews_df['App'].isin(apps_df[apps_df['Category'].isin(top_categories)]['App'])]\n",
    "        filtered_reviews = pd.merge(filtered_reviews, apps_df[['App', 'Rating_Group']], on='App', how='left')\n",
    "        filtered_reviews['Sentiment_Group'] = pd.cut(filtered_reviews['Sentiment_Score'], bins=[-1, -0.05, 0.05, 1], labels=['Negative', 'Neutral', 'Positive'])\n",
    "        sentiment_counts = filtered_reviews.groupby(['Sentiment_Group', 'Rating_Group']).size().unstack(fill_value=0)\n",
    "        fig1 = px.bar(sentiment_counts, title='Sentiment Distribution by Rating Group',\n",
    "                      labels={'value': 'Count', 'Sentiment_Group': 'Sentiment', 'Rating_Group': 'Rating Group'},\n",
    "                      color_discrete_sequence=px.colors.qualitative.Plotly)\n",
    "        fig1.update_layout(barmode='stack')\n",
    "        viz1 = html.Div(id='sentiment_distribution', children=[\n",
    "            html.H3(\"Sentiment Analysis by Rating Group\", style={'textAlign': 'center'}),\n",
    "            dcc.Graph(figure=fig1)\n",
    "        ], style={'backgroundColor': 'white', 'padding': '15px', 'borderRadius': '5px', 'boxShadow': '0px 0px 10px rgba(0,0,0,0.1)', 'marginBottom': '20px'})\n",
    "    except Exception as e:\n",
    "        print(f\"Error in visualization 1: {e}\")\n",
    "        viz1 = html.Div(id='sentiment_distribution', children=[\n",
    "            html.H3(\"Sentiment Analysis by Rating Group\", style={'textAlign': 'center'}),\n",
    "            html.P(f\"Error loading visualization: {str(e)}\")\n",
    "        ], style={'backgroundColor': 'white', 'padding': '15px', 'borderRadius': '5px', 'boxShadow': '0px 0px 10px rgba(0,0,0,0.1)', 'marginBottom': '20px'})\n",
    "\n",
    "    # Visualization 2 - Dual-Axis Chart for Free vs Paid Apps\n",
    "    try:\n",
    "        filtered_apps = apps_df[(apps_df['Installs'] > 10000) & (apps_df['Revenue'] > 10000)]\n",
    "        # Apply more filters conditionally to avoid errors\n",
    "        if 'Android Ver' in filtered_apps.columns:\n",
    "            filtered_apps = filtered_apps[filtered_apps['Android Ver'].str.extract('(\\d+\\.\\d+)', expand=False).astype(float, errors='ignore') > 4.0]\n",
    "        if 'Size' in filtered_apps.columns:\n",
    "            filtered_apps = filtered_apps[filtered_apps['Size'] > 15]\n",
    "        if 'Content Rating' in filtered_apps.columns:\n",
    "            filtered_apps = filtered_apps[filtered_apps['Content Rating'] == 'Everyone']\n",
    "\n",
    "        filtered_apps = filtered_apps[filtered_apps['App'].str.len() <= 30]\n",
    "\n",
    "        top_categories = filtered_apps['Category'].value_counts().nlargest(3).index\n",
    "        filtered_apps = filtered_apps[filtered_apps['Category'].isin(top_categories)]\n",
    "        avg_installs = filtered_apps.groupby('Type')['Installs'].mean().reset_index()\n",
    "        avg_revenue = filtered_apps.groupby('Type')['Revenue'].mean().reset_index()\n",
    "        fig2 = px.bar(avg_installs, x='Type', y='Installs', title='Average Installs for Free vs Paid Apps',\n",
    "                      labels={'Installs': 'Average Installs'}, color='Type')\n",
    "        fig2.add_scatter(x=avg_revenue['Type'], y=avg_revenue['Revenue'], mode='lines+markers', name='Average Revenue', yaxis='y2')\n",
    "        fig2.update_layout(yaxis2=dict(title='Average Revenue', overlaying='y', side='right'))\n",
    "        viz2 = html.Div(id='installs_revenue', children=[\n",
    "            html.H3(\"Average Installs and Revenue: Free vs Paid Apps\", style={'textAlign': 'center'}),\n",
    "            dcc.Graph(figure=fig2)\n",
    "        ], style={'backgroundColor': 'white', 'padding': '15px', 'borderRadius': '5px', 'boxShadow': '0px 0px 10px rgba(0,0,0,0.1)', 'marginBottom': '20px'})\n",
    "    except Exception as e:\n",
    "        print(f\"Error in visualization 2: {e}\")\n",
    "        viz2 = html.Div(id='installs_revenue', children=[\n",
    "            html.H3(\"Average Installs and Revenue: Free vs Paid Apps\", style={'textAlign': 'center'}),\n",
    "            html.P(f\"Error loading visualization: {str(e)}\")\n",
    "        ], style={'backgroundColor': 'white', 'padding': '15px', 'borderRadius': '5px', 'boxShadow': '0px 0px 10px rgba(0,0,0,0.1)', 'marginBottom': '20px'})\n",
    "\n",
    "    # Visualization 3 - Grouped Bar Chart for Average Rating and Total Review Count\n",
    "    try:\n",
    "        filtered_apps = apps_df[(apps_df['Size'] > 10) & (apps_df['Last Updated'].dt.month == 1)]\n",
    "        avg_rating = filtered_apps.groupby('Category')['Rating'].mean().reset_index()\n",
    "        total_reviews = filtered_apps.groupby('Category')['Reviews'].sum().reset_index()\n",
    "        combined = pd.merge(avg_rating, total_reviews, on='Category')\n",
    "        combined = combined[combined['Rating'] >= 4.0]\n",
    "        fig3 = px.bar(combined, x='Category', y=['Rating', 'Reviews'], title='Average Rating and Total Review Count by Category',\n",
    "                      labels={'value': 'Count', 'variable': 'Metric'})\n",
    "        viz3 = html.Div(id='rating_review_count', children=[\n",
    "            html.H3(\"Average Rating and Total Reviews by Category\", style={'textAlign': 'center'}),\n",
    "            dcc.Graph(figure=fig3)\n",
    "        ], style={'backgroundColor': 'white', 'padding': '15px', 'borderRadius': '5px', 'boxShadow': '0px 0px 10px rgba(0,0,0,0.1)', 'marginBottom': '20px'})\n",
    "    except Exception as e:\n",
    "        print(f\"Error in visualization 3: {e}\")\n",
    "        viz3 = html.Div(id='rating_review_count', children=[\n",
    "            html.H3(\"Average Rating and Total Reviews by Category\", style={'textAlign': 'center'}),\n",
    "            html.P(f\"Error loading visualization: {str(e)}\")\n",
    "        ], style={'backgroundColor': 'white', 'padding': '15px', 'borderRadius': '5px', 'boxShadow': '0px 0px 10px rgba(0,0,0,0.1)', 'marginBottom': '20px'})\n",
    "\n",
    "    # Visualization 4 - Time Series Line Chart for Total Installs\n",
    "    try:\n",
    "        filtered_apps = apps_df.copy()\n",
    "        if 'Content Rating' in filtered_apps.columns:\n",
    "            filtered_apps = filtered_apps[filtered_apps['Content Rating'] == 'Teen']\n",
    "        filtered_apps = filtered_apps[filtered_apps['App'].str.startswith('E', na=False) & (filtered_apps['Installs'] > 10000)]\n",
    "        installs_trend = filtered_apps.groupby(['Year'])['Installs'].sum().reset_index()\n",
    "        fig4 = px.line(installs_trend, x='Year', y='Installs', title='Total Installs Over Time')\n",
    "        viz4 = html.Div(id='installs_trend', children=[\n",
    "            html.H3(\"Total Installs Trend Over Time\", style={'textAlign': 'center'}),\n",
    "            dcc.Graph(figure=fig4)\n",
    "        ], style={'backgroundColor': 'white', 'padding': '15px', 'borderRadius': '5px', 'boxShadow': '0px 0px 10px rgba(0,0,0,0.1)', 'marginBottom': '20px'})\n",
    "    except Exception as e:\n",
    "        print(f\"Error in visualization 4: {e}\")\n",
    "        viz4 = html.Div(id='installs_trend', children=[\n",
    "            html.H3(\"Total Installs Trend Over Time\", style={'textAlign': 'center'}),\n",
    "            html.P(f\"Error loading visualization: {str(e)}\")\n",
    "        ], style={'backgroundColor': 'white', 'padding': '15px', 'borderRadius': '5px', 'boxShadow': '0px 0px 10px rgba(0,0,0,0.1)', 'marginBottom': '20px'})\n",
    "\n",
    "    # Visualization 5 - Violin Plot for Ratings Distribution\n",
    "    try:\n",
    "        filtered_apps = apps_df[apps_df['App'].str.contains('C', na=False) & (apps_df['Reviews'] > 10) & (apps_df['Rating'] < 4.0)]\n",
    "        category_counts = filtered_apps['Category'].value_counts()\n",
    "        valid_categories = category_counts[category_counts > 50].index\n",
    "        filtered_apps = filtered_apps[filtered_apps['Category'].isin(valid_categories)]\n",
    "        fig5 = px.violin(filtered_apps, y='Rating', x='Category', title='Distribution of Ratings by Category', box=True, points='all')\n",
    "        viz5 = html.Div(id='ratings_distribution', children=[\n",
    "            html.H3(\"Distribution of Ratings by Category\", style={'textAlign': 'center'}),\n",
    "            dcc.Graph(figure=fig5)\n",
    "        ], style={'backgroundColor': 'white', 'padding': '15px', 'borderRadius': '5px', 'boxShadow': '0px 0px 10px rgba(0,0,0,0.1)', 'marginBottom': '20px'})\n",
    "    except Exception as e:\n",
    "        print(f\"Error in visualization 5: {e}\")\n",
    "        viz5 = html.Div(id='ratings_distribution', children=[\n",
    "            html.H3(\"Distribution of Ratings by Category\", style={'textAlign': 'center'}),\n",
    "            html.P(f\"Error loading visualization: {str(e)}\")\n",
    "        ], style={'backgroundColor': 'white', 'padding': '15px', 'borderRadius': '5px', 'boxShadow': '0px 0px 10px rgba(0,0,0,0.1)', 'marginBottom': '20px'})\n",
    "\n",
    "    # Compose full layout\n",
    "    layout = html.Div([\n",
    "        html.H1(\"Play Store Data Analysis Dashboard\", style={'textAlign': 'center', 'color': '#2c3e50', 'marginBottom': '30px'}),\n",
    "        viz1, viz2, viz3, viz4, viz5\n",
    "    ], style={'backgroundColor': '#f0f2f5', 'fontFamily': 'Arial', 'padding': '20px'})\n",
    "    \n",
    "    return layout\n"
   ]
  },
  {
   "cell_type": "code",
   "execution_count": 15,
   "id": "8da5b790",
   "metadata": {},
   "outputs": [
    {
     "name": "stdout",
     "output_type": "stream",
     "text": [
      "Creating visualizations and layout...\n"
     ]
    }
   ],
   "source": [
    "# Define the app layout\n",
    "app.layout = create_layout()\n"
   ]
  },
  {
   "cell_type": "code",
   "execution_count": 16,
   "id": "17bc78c6",
   "metadata": {},
   "outputs": [
    {
     "name": "stdout",
     "output_type": "stream",
     "text": [
      "Starting dashboard server...\n"
     ]
    },
    {
     "data": {
      "text/html": [
       "\n",
       "        <iframe\n",
       "            width=\"100%\"\n",
       "            height=\"650\"\n",
       "            src=\"http://127.0.0.1:8050/\"\n",
       "            frameborder=\"0\"\n",
       "            allowfullscreen\n",
       "            \n",
       "        ></iframe>\n",
       "        "
      ],
      "text/plain": [
       "<IPython.lib.display.IFrame at 0x1c1575225d0>"
      ]
     },
     "metadata": {},
     "output_type": "display_data"
    },
    {
     "name": "stdout",
     "output_type": "stream",
     "text": [
      "Dashboard is running. If browser didn't open automatically, navigate to http://127.0.0.1:8050/\n"
     ]
    }
   ],
   "source": [
    "# Main function to run the app\n",
    "if __name__ == '__main__':\n",
    "    print(\"Starting dashboard server...\")\n",
    "    # Open browser after a short delay to ensure server is running\n",
    "    Timer(1.5, open_browser).start()  # Increased delay to 1.5 seconds\n",
    "    # Run the server\n",
    "    app.run_server(debug=True, port=8050)  # Changed to debug=True to see any issues\n",
    "    print(\"Dashboard is running. If browser didn't open automatically, navigate to http://127.0.0.1:8050/\")"
   ]
  },
  {
   "cell_type": "code",
   "execution_count": null,
   "id": "97c49d3c",
   "metadata": {},
   "outputs": [],
   "source": []
  }
 ],
 "metadata": {
  "kernelspec": {
   "display_name": "Python 3 (ipykernel)",
   "language": "python",
   "name": "python3"
  },
  "language_info": {
   "codemirror_mode": {
    "name": "ipython",
    "version": 3
   },
   "file_extension": ".py",
   "mimetype": "text/x-python",
   "name": "python",
   "nbconvert_exporter": "python",
   "pygments_lexer": "ipython3",
   "version": "3.11.5"
  }
 },
 "nbformat": 4,
 "nbformat_minor": 5
}
